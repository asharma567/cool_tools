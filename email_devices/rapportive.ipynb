{
 "cells": [
  {
   "cell_type": "code",
   "execution_count": null,
   "metadata": {
    "collapsed": true
   },
   "outputs": [],
   "source": [
    "'''\n",
    "need to make two more functions:\n",
    "    i) email permuter\n",
    "    ii) master function that takes in #I, O first name, last name, domain\n",
    "'''"
   ]
  },
  {
   "cell_type": "code",
   "execution_count": 19,
   "metadata": {
    "collapsed": true
   },
   "outputs": [],
   "source": [
    "curl_auth_URL = '''\n",
    "curl 'https://www.linkedin.com/uas/js/authuserspace?v=0.0.1191-RC8.56523-1429&api_key=4XZcfCb3djUl-DHJSFYd1l0ULtgSPl9sXXNGbTKT2e003WAeT6c2AqayNTIN5T1s&credentialsCookie=true' -H 'Accept-Encoding: gzip, deflate, sdch, br' -H 'Accept-Language: en-US,en;q=0.8' -H 'User-Agent: Mozilla/5.0 (Macintosh; Intel Mac OS X 10_11_5) AppleWebKit/537.36 (KHTML, like Gecko) Chrome/51.0.2704.84 Safari/537.36' -H 'Accept: */*' -H 'Referer: https://mail.google.com/mail/u/0/' -H 'Cookie: visit=\"v=1&M\"; wutan=3tuIE4NFg+anLVR45/FRML6KkQZZREJ7voNVKBn5XwM=; bcookie=\"v=2&5119d04a-4d67-4d0f-8348-ac41c6529628\"; bscookie=\"v=1&20160609204657aaeeccfd-80ab-4d70-80a0-cbb2736bed8eAQHhp-6ERxAp7k5vFJhfyGPoiYlBtxJ4\"; _cb_ls=1; _chartbeat2=TZ1XNDgkXfwgrzHC.1465612818216.1466547387325.100101000001; oz_props_fetch_size1_112650289=15; share_setting=PUBLIC; sdsc=1%3A1SZM1shxDNbLt36wZwCgPgvN58iw%3D; _lipt=0_eXhgZe72hwJ1ACrCXPhsS-BdeFMrt54s5y8J_u6z8dzUxuf2h_YiYxmpomBbH-j5GxlEiquAYXl0GjOOBEqM3Bq_3Hi3HdpKqdeiuqMHz5h6CewjOlqYL9Qv3ejiVksrfRO1HnNsQ3vR_o0bKyts22tnnJkCZz7v1wGBmMVZmMpM7qwcXNsxZ3IMdxGqtFCJeNmC4SJGjzpxiWYPVGcE5dHsrhvqegaMtZ2s9dxg7gampby-4WXXuawXOcEJpJPmHD3yihk2-Snwob0GYdK1jMhQwJLxcE7WABN-Z_0z5MVzDSWNj5DScvLw1apCBPghb-ERr7LgtKmUV7ZUYMRhsXXpNcFXKU2FZzvIrRktts-; _ga=GA1.2.785583338.1465937479; lang=\"v=2&lang=en-us&c=\"; li_at=AQEDAQa26DEEU7yZAAABVVRR4zoAAAFVeryi4U0Ax6HKjV6DVd1MvPxJGttc4l48nYxa96oVVtytSm9pABwDDEJOk4oCqH_K2w17c5c-HdU5MhWFfLYCu9qcSdzadzddHTk5qru3fNUR6UcWRJDdBKAv; liap=true; sl=\"v=1&7dzNj\"; JSESSIONID=\"ajax:1898019488492729741\"; lidc=\"b=LB89:g=357:u=181:i=1466637083:t=1466715123:s=AQEs-9w5sEyrnjA_QAFN9SCQxeKHkE5H\"' -H 'Connection: keep-alive' --compressed\n",
    "'''"
   ]
  },
  {
   "cell_type": "code",
   "execution_count": 10,
   "metadata": {
    "collapsed": false,
    "scrolled": true
   },
   "outputs": [
    {
     "data": {
      "text/plain": [
       "'\\n\\'https://www.linkedin.com/uas/js/authuserspace?v=0.0.1191-RC8.56523-1429&api_key=4XZcfCb3djUl-DHJSFYd1l0ULtgSPl9sXXNGbTKT2e003WAeT6c2AqayNTIN5T1s&credentialsCookie=true\\' -H \\'Accept-Encoding: gzip, deflate, sdch, br\\' -H \\'Accept-Language: en-US,en;q=0.8\\' -H \\'User-Agent: Mozilla/5.0 (Macintosh; Intel Mac OS X 10_11_5) AppleWebKit/537.36 (KHTML, like Gecko) Chrome/51.0.2704.84 Safari/537.36\\' -H \\'Accept: */*\\' -H \\'Referer: https://mail.google.com/mail/u/0/\\' -H \\'Cookie: visit=\"v=1&M\"; wutan=3tuIE4NFg+anLVR45/FRML6KkQZZREJ7voNVKBn5XwM=; bcookie=\"v=2&5119d04a-4d67-4d0f-8348-ac41c6529628\"; bscookie=\"v=1&20160609204657aaeeccfd-80ab-4d70-80a0-cbb2736bed8eAQHhp-6ERxAp7k5vFJhfyGPoiYlBtxJ4\"; _cb_ls=1; _chartbeat2=TZ1XNDgkXfwgrzHC.1465612818216.1466547387325.100101000001; oz_props_fetch_size1_112650289=15; share_setting=PUBLIC; sdsc=1%3A1SZM1shxDNbLt36wZwCgPgvN58iw%3D; _lipt=0_eXhgZe72hwJ1ACrCXPhsS-BdeFMrt54s5y8J_u6z8dzUxuf2h_YiYxmpomBbH-j5GxlEiquAYXl0GjOOBEqM3Bq_3Hi3HdpKqdeiuqMHz5h6CewjOlqYL9Qv3ejiVksrfRO1HnNsQ3vR_o0bKyts22tnnJkCZz7v1wGBmMVZmMpM7qwcXNsxZ3IMdxGqtFCJeNmC4SJGjzpxiWYPVGcE5dHsrhvqegaMtZ2s9dxg7gampby-4WXXuawXOcEJpJPmHD3yihk2-Snwob0GYdK1jMhQwJLxcE7WABN-Z_0z5MVzDSWNj5DScvLw1apCBPghb-ERr7LgtKmUV7ZUYMRhsXXpNcFXKU2FZzvIrRktts-; _ga=GA1.2.785583338.1465937479; lang=\"v=2&lang=en-us&c=\"; li_at=AQEDAQa26DEEU7yZAAABVVRR4zoAAAFVeryi4U0Ax6HKjV6DVd1MvPxJGttc4l48nYxa96oVVtytSm9pABwDDEJOk4oCqH_K2w17c5c-HdU5MhWFfLYCu9qcSdzadzddHTk5qru3fNUR6UcWRJDdBKAv; liap=true; sl=\"v=1&7dzNj\"; JSESSIONID=\"ajax:1898019488492729741\"; lidc=\"b=LB89:g=357:u=181:i=1466637083:t=1466715123:s=AQEs-9w5sEyrnjA_QAFN9SCQxeKHkE5H\"\\' -H \\'Connection: keep-alive\\' --compressed\\n'"
      ]
     },
     "execution_count": 10,
     "metadata": {},
     "output_type": "execute_result"
    }
   ],
   "source": [
    "auth_URL = '''\n",
    "'https://www.linkedin.com/uas/js/authuserspace?v=0.0.1191-RC8.56523-1429&api_key=4XZcfCb3djUl-DHJSFYd1l0ULtgSPl9sXXNGbTKT2e003WAeT6c2AqayNTIN5T1s&credentialsCookie=true' -H 'Accept-Encoding: gzip, deflate, sdch, br' -H 'Accept-Language: en-US,en;q=0.8' -H 'User-Agent: Mozilla/5.0 (Macintosh; Intel Mac OS X 10_11_5) AppleWebKit/537.36 (KHTML, like Gecko) Chrome/51.0.2704.84 Safari/537.36' -H 'Accept: */*' -H 'Referer: https://mail.google.com/mail/u/0/' -H 'Cookie: visit=\"v=1&M\"; wutan=3tuIE4NFg+anLVR45/FRML6KkQZZREJ7voNVKBn5XwM=; bcookie=\"v=2&5119d04a-4d67-4d0f-8348-ac41c6529628\"; bscookie=\"v=1&20160609204657aaeeccfd-80ab-4d70-80a0-cbb2736bed8eAQHhp-6ERxAp7k5vFJhfyGPoiYlBtxJ4\"; _cb_ls=1; _chartbeat2=TZ1XNDgkXfwgrzHC.1465612818216.1466547387325.100101000001; oz_props_fetch_size1_112650289=15; share_setting=PUBLIC; sdsc=1%3A1SZM1shxDNbLt36wZwCgPgvN58iw%3D; _lipt=0_eXhgZe72hwJ1ACrCXPhsS-BdeFMrt54s5y8J_u6z8dzUxuf2h_YiYxmpomBbH-j5GxlEiquAYXl0GjOOBEqM3Bq_3Hi3HdpKqdeiuqMHz5h6CewjOlqYL9Qv3ejiVksrfRO1HnNsQ3vR_o0bKyts22tnnJkCZz7v1wGBmMVZmMpM7qwcXNsxZ3IMdxGqtFCJeNmC4SJGjzpxiWYPVGcE5dHsrhvqegaMtZ2s9dxg7gampby-4WXXuawXOcEJpJPmHD3yihk2-Snwob0GYdK1jMhQwJLxcE7WABN-Z_0z5MVzDSWNj5DScvLw1apCBPghb-ERr7LgtKmUV7ZUYMRhsXXpNcFXKU2FZzvIrRktts-; _ga=GA1.2.785583338.1465937479; lang=\"v=2&lang=en-us&c=\"; li_at=AQEDAQa26DEEU7yZAAABVVRR4zoAAAFVeryi4U0Ax6HKjV6DVd1MvPxJGttc4l48nYxa96oVVtytSm9pABwDDEJOk4oCqH_K2w17c5c-HdU5MhWFfLYCu9qcSdzadzddHTk5qru3fNUR6UcWRJDdBKAv; liap=true; sl=\"v=1&7dzNj\"; JSESSIONID=\"ajax:1898019488492729741\"; lidc=\"b=LB89:g=357:u=181:i=1466637083:t=1466715123:s=AQEs-9w5sEyrnjA_QAFN9SCQxeKHkE5H\"' -H 'Connection: keep-alive' --compressed\n",
    "'''\n",
    "auth_URL"
   ]
  },
  {
   "cell_type": "code",
   "execution_count": 53,
   "metadata": {
    "collapsed": false,
    "scrolled": true
   },
   "outputs": [
    {
     "data": {
      "text/plain": [
       "('(function(){\\nvar l,\\n    doAuth,\\n    h = [\"rapportive.com\",\"mail.google.com\",\"rapportive.jelzo.com\"],\\n    valid = false,\\n    a = \"${API_KEY}\",\\n    fwk = \"${FRAMEWORK_JS}\",\\n    xtnreg = /extensions=([^&]*)&?/,\\n    xtn = fwk.match(xtnreg),\\n    dotRegex = /\\\\./g,\\n    starRegex = /\\\\*/g,\\n    selfUrl = window.location.host.replace(/:\\\\d+$/,\"\").toLowerCase();\\nwindow.IN = window.IN || {};\\nIN.ENV = IN.ENV || {};\\nIN.ENV.js = IN.ENV.js || {};\\nIN.ENV.js.xtn = IN.ENV.js.xtn || {};\\n/*\\nif !ANONYMOUS_USERSPACE\\n*/\\n  if (!a) {  \\n    throw new Error(\"API Key is invalid\");\\n  }\\n  else if (h === \"\" || h === null) {\\n    throw new Error(\"You must specify a valid JavaScript API Domain as part of this key\\'s configuration.\");\\n  }\\n  /*\\n  if !LIX_DISABLE_USERSPACE_OAUTH\\n    */\\n    for (var i = 0, len = h.length; i < len; i++) {\\n      var search = new RegExp(\"^\"+h[i].replace(dotRegex, \"\\\\\\\\.\").replace(starRegex, \".+?\")+\"$\");\\n      if (selfUrl.match(search)) {\\n        valid = true;\\n        break;\\n      }\\n    }\\n    if (!valid) {\\n      throw new Error(\"JavaScript API Domain is restricted to \"+h.join(\", \"));\\n    } else {\\n  /*\\n    endif !LIX_DISABLE_USERSPACE_OAUTH\\n  */\\n/*\\nendif !ANONYMOUS_USERSPACE\\n*/\\n/*\\n# --------------------\\n# ----- FRAGMENT -----\\n# --------------------\\n*/\\n/*\\nif AUTH_USERSPACE\\n*/\\n  /*\\n  if !LIX_DISABLE_USERSPACE_OAUTH\\n    */\\n    doAuth = (!IN.ENV.auth.oauth_token && \"Iy6eW745WkfUywUxBKd7ZbsNj0Tx-7l8bWPn\" !== \"\" && IN.User) ? true : false;\\n    l = IN.ENV.auth = IN.ENV.auth || {};\\n    l.oauth_token = \"Iy6eW745WkfUywUxBKd7ZbsNj0Tx-7l8bWPn\";\\n    l.member_id = \"a77_sBuhsI\";\\n    l.oauth_expires_in = parseInt(\"1800\", 10);  \\n    IN.User.setOauthCookie(\"%7B%22member_id%22%3A%22a77_sBuhsI%22%2C%22access_token%22%3A%22Iy6eW745WkfUywUxBKd7ZbsNj0Tx-7l8bWPn%22%2C%22signature_order%22%3A%5B%22access_token%22%2C%22member_id%22%5D%2C%22signature%22%3A%22ppWYsE6VQqaQmhU8Wzb9idzW2QY%3D%22%2C%22signature_version%22%3A%221%22%2C%22signature_method%22%3A%22HMAC-SHA1%22%7D\");\\n    if (doAuth) {\\n      IN.User.setAuthorized(l.oauth_token, l.member_id, \"%7B%22member_id%22%3A%22a77_sBuhsI%22%2C%22access_token%22%3A%22Iy6eW745WkfUywUxBKd7ZbsNj0Tx-7l8bWPn%22%2C%22signature_order%22%3A%5B%22access_token%22%2C%22member_id%22%5D%2C%22signature%22%3A%22ppWYsE6VQqaQmhU8Wzb9idzW2QY%3D%22%2C%22signature_version%22%3A%221%22%2C%22signature_method%22%3A%22HMAC-SHA1%22%7D\");\\n    }\\n    tags = IN.$Tag(\"script\", IN.$Tag(\"head\")[0]);\\n    for (var i = 0, len = tags.length; i < len; i++) {\\n      tag = tags[i];\\n      if (tag.className.toLowerCase().match(/in_keepalive/)) {\\n        window.setTimeout(function() {\\n          tag.parentNode.removeChild(tag);\\n        }, 10);\\n        break;\\n      }\\n    }\\n  /*\\n    endif !LIX_DISABLE_USERSPACE_OAUTH\\n  */\\n  /*\\n  endif\\n*/\\n/*\\nif FULL_USERSPACE\\nendif\\n*/\\n/*\\n# --------------------\\n# ----- FRAGMENT -----\\n# --------------------\\n*/\\n/*\\nif !ANONYMOUS_USERSPACE\\n*/\\n  /*\\n  if !LIX_DISABLE_USERSPACE_OAUTH\\n    */\\n    }\\n  /*\\n    endif !LIX_DISABLE_USERSPACE_OAUTH\\n  */\\n/*\\nendif !ANONYMOUS_USERSPACE\\n*/\\n})();\\n\\n',\n",
       " '  % Total    % Received % Xferd  Average Speed   Time    Time     Time  Current\\n                                 Dload  Upload   Total   Spent    Left  Speed\\n\\r  0     0    0     0    0     0      0      0 --:--:-- --:--:-- --:--:--     0\\r100  1137    0  1137    0     0   3153      0 --:--:-- --:--:-- --:--:--  3314\\n')"
      ]
     },
     "execution_count": 53,
     "metadata": {},
     "output_type": "execute_result"
    }
   ],
   "source": [
    "import subprocess\n",
    "\n",
    "def curl_this(url):\n",
    "    '''\n",
    "    I: string, prepended by 'curl'\n",
    "    O: output string of curl\n",
    "    '''\n",
    "\n",
    "    stor = subprocess.Popen(\n",
    "        url,\n",
    "        shell=True,\n",
    "        stdout=subprocess.PIPE, \n",
    "        stderr=subprocess.PIPE\n",
    "    ).communicate()\n",
    "    return stor\n",
    "\n",
    "output = curl_this(curl_auth_URL)\n",
    "output"
   ]
  },
  {
   "cell_type": "code",
   "execution_count": 76,
   "metadata": {
    "collapsed": false
   },
   "outputs": [
    {
     "data": {
      "text/plain": [
       "'Iy6eW745WkfUywUxBKd7ZbsNj0Tx-7l8bWPn'"
      ]
     },
     "execution_count": 76,
     "metadata": {},
     "output_type": "execute_result"
    }
   ],
   "source": [
    "def parse_auth_token(curled_output):\n",
    "#build regex or something to parse this \n",
    "    if curled_output[0] != '':\n",
    "        cut_off_front = curled_output[0].split('l.oauth_token =')[1] \n",
    "        cut_off_back = cut_off_front.split(';')[0]\n",
    "        auth_token_str = cut_off_back.strip().strip('\\\"')\n",
    "    else:\n",
    "        print output[1]\n",
    "        return None\n",
    "    return auth_token_str\n",
    "\n",
    "auth_token = parse_auth_token(output)\n",
    "auth_token"
   ]
  },
  {
   "cell_type": "code",
   "execution_count": 86,
   "metadata": {
    "collapsed": false
   },
   "outputs": [
    {
     "data": {
      "text/plain": [
       "'jKXohHR3ftnrOSCYp9VDMoCG_2o6YUbTpvQM'"
      ]
     },
     "execution_count": 86,
     "metadata": {},
     "output_type": "execute_result"
    }
   ],
   "source": [
    "def get_auth_token(URL):\n",
    "    return parse_auth_token(curl_this(URL))\n",
    "get_auth_token(curl_auth_URL)"
   ]
  },
  {
   "cell_type": "code",
   "execution_count": 50,
   "metadata": {
    "collapsed": false
   },
   "outputs": [],
   "source": [
    "curl_profile_URL = '''\n",
    "curl 'https://api.linkedin.com/v1/people/email={0}%40{1}:(first-name,last-name,headline,location,distance,positions,twitter-accounts,im-accounts,phone-numbers,member-url-resources,picture-urls::(original),site-standard-profile-request,public-profile-url,relation-to-viewer:(connections:(person:(first-name,last-name,headline,site-standard-profile-request,picture-urls::(original)))))' -H 'Cookie: bcookie=\"v=2&5119d04a-4d67-4d0f-8348-ac41c6529628\"; sdsc=1%3A1SZM1shxDNbLt36wZwCgPgvN58iw%3D; _lipt=0_eXhgZe72hwJ1ACrCXPhsS-BdeFMrt54s5y8J_u6z8dzUxuf2h_YiYxmpomBbH-j5GxlEiquAYXl0GjOOBEqM3Bq_3Hi3HdpKqdeiuqMHz5h6CewjOlqYL9Qv3ejiVksrfRO1HnNsQ3vR_o0bKyts22tnnJkCZz7v1wGBmMVZmMpM7qwcXNsxZ3IMdxGqtFCJeNmC4SJGjzpxiWYPVGcE5dHsrhvqegaMtZ2s9dxg7gampby-4WXXuawXOcEJpJPmHD3yihk2-Snwob0GYdK1jMhQwJLxcE7WABN-Z_0z5MVzDSWNj5DScvLw1apCBPghb-ERr7LgtKmUV7ZUYMRhsXXpNcFXKU2FZzvIrRktts-; _ga=GA1.2.785583338.1465937479; lang=\"v=2&lang=en-us&c=\"; liap=true; lidc=\"b=LB89:g=357:u=181:i=1466635831:t=1466715123:s=AQH5lo0WCPxkRJs4xxddhuYc__WN3Xh4\"' -H 'X-Cross-Domain-Origin: https://mail.google.com' -H 'Accept-Encoding: gzip, deflate, sdch, br' -H 'Accept-Language: en-US,en;q=0.8' -H 'User-Agent: Mozilla/5.0 (Macintosh; Intel Mac OS X 10_11_5) AppleWebKit/537.36 (KHTML, like Gecko) Chrome/51.0.2704.84 Safari/537.36' -H 'Content-type: application/json' -H 'Accept: */*' -H 'Referer: https://api.linkedin.com/uas/js/xdrpc.html?v=0.0.1191-RC8.56523-1429' -H 'X-Requested-With: IN.XDCall' -H 'x-li-format: json' -H 'Connection: keep-alive' -H 'oauth_token: {2}' -H 'X-HTTP-Method-Override: GET' --compressed\n",
    "'''"
   ]
  },
  {
   "cell_type": "code",
   "execution_count": 83,
   "metadata": {
    "collapsed": false
   },
   "outputs": [
    {
     "name": "stdout",
     "output_type": "stream",
     "text": [
      "False\n",
      "True\n"
     ]
    }
   ],
   "source": [
    "def get_profile_from_LI(user_handle, domain, auth_token):\n",
    "    profile = curl_this(curl_profile_URL.format(user_handle, domain, auth_token))\n",
    "    return profile\n",
    "\n",
    "def check_LI_profile_exist(user_handle, domain, auth_token):\n",
    "    #hacky ass way to this\n",
    "    output_str = get_profile_from_LI(user_handle,domain, auth_token)\n",
    "    #put an if clause and parse out the messsage. \n",
    "    #it's the token call this same function again.\n",
    "    return  ('''\"message\": \"Couldn\\'t find member''' not in output_str[0])\n",
    "\n",
    "print check_LI_profile_exist('Ryan','viewthespace.com',auth_token)\n",
    "print check_LI_profile_exist('asharma567567','gmail.com',auth_token)"
   ]
  },
  {
   "cell_type": "code",
   "execution_count": 104,
   "metadata": {
    "collapsed": false,
    "scrolled": true
   },
   "outputs": [
    {
     "data": {
      "text/plain": [
       "['ajay@gmail.com',\n",
       " 'sharma@gmail.com',\n",
       " 'ajaysharma@gmail.com',\n",
       " 'ajay.sharma@gmail.com',\n",
       " 'asharma@gmail.com',\n",
       " 'a.sharma@gmail.com',\n",
       " 'ajays@gmail.com',\n",
       " 'ajay.s@gmail.com',\n",
       " 'as@gmail.com',\n",
       " 'a.s@gmail.com',\n",
       " 'sharmaajay@gmail.com',\n",
       " 'sharma.ajay@gmail.com',\n",
       " 'sharmaa@gmail.com',\n",
       " 'sharma.a@gmail.com',\n",
       " 'sajay@gmail.com',\n",
       " 's.ajay@gmail.com',\n",
       " 'sa@gmail.com',\n",
       " 's.a@gmail.com',\n",
       " 'asharma@gmail.com',\n",
       " 'a.sharma@gmail.com',\n",
       " 'ajaysharma@gmail.com',\n",
       " 'ajay..sharma@gmail.com',\n",
       " 'ajaysharma@gmail.com',\n",
       " 'ajay..sharma@gmail.com',\n",
       " 'ajay-sharma@gmail.com',\n",
       " 'a-sharma@gmail.com',\n",
       " 'ajay-s@gmail.com',\n",
       " 'a-s@gmail.com',\n",
       " 'sharma-ajay@gmail.com',\n",
       " 'sharma-a@gmail.com',\n",
       " 's-ajay@gmail.com',\n",
       " 's-a@gmail.com',\n",
       " 'a-sharma@gmail.com',\n",
       " 'ajay--sharma@gmail.com',\n",
       " 'ajay--sharma@gmail.com',\n",
       " 'ajay_sharma@gmail.com',\n",
       " 'a_sharma@gmail.com',\n",
       " 'ajay_s@gmail.com',\n",
       " 'a_s@gmail.com',\n",
       " 'sharma_ajay@gmail.com',\n",
       " 'sharma_a@gmail.com',\n",
       " 's_ajay@gmail.com',\n",
       " 's_a@gmail.com',\n",
       " 'a_sharma@gmail.com',\n",
       " 'ajay__sharma@gmail.com',\n",
       " 'ajay__sharma@gmail.com']"
      ]
     },
     "execution_count": 104,
     "metadata": {},
     "output_type": "execute_result"
    }
   ],
   "source": [
    "\n",
    "string_formats = '''\n",
    "\t{first_name}@{domain}\n",
    "\t{last_name}@{domain}\n",
    "\t{first_name}{last_name}@{domain}\n",
    "\t{first_name}.{last_name}@{domain}\n",
    "\t{f_initial}{last_name}@{domain}\n",
    "\t{f_initial}.{last_name}@{domain}\n",
    "\t{first_name}{l_initial}@{domain}\n",
    "\t{first_name}.{l_initial}@{domain}\n",
    "\t{f_initial}{l_initial}@{domain}\n",
    "\t{f_initial}.{l_initial}@{domain}\n",
    "\t{last_name}{first_name}@{domain}\n",
    "\t{last_name}.{first_name}@{domain}\n",
    "\t{last_name}{f_initial}@{domain}\n",
    "\t{last_name}.{f_initial}@{domain}\n",
    "\t{l_initial}{first_name}@{domain}\n",
    "\t{l_initial}.{first_name}@{domain}\n",
    "\t{l_initial}{f_initial}@{domain}\n",
    "\t{l_initial}.{f_initial}@{domain}\n",
    "\t{f_initial}{last_name}@{domain}\n",
    "\t{f_initial}.{last_name}@{domain}\n",
    "\t{first_name}{last_name}@{domain}\n",
    "\t{first_name}..{last_name}@{domain}\n",
    "\t{first_name}{last_name}@{domain}\n",
    "\t{first_name}..{last_name}@{domain}\n",
    "\t{first_name}-{last_name}@{domain}\n",
    "\t{f_initial}-{last_name}@{domain}\n",
    "\t{first_name}-{l_initial}@{domain}\n",
    "\t{f_initial}-{l_initial}@{domain}\n",
    "\t{last_name}-{first_name}@{domain}\n",
    "\t{last_name}-{f_initial}@{domain}\n",
    "\t{l_initial}-{first_name}@{domain}\n",
    "\t{l_initial}-{f_initial}@{domain}\n",
    "\t{f_initial}-{last_name}@{domain}\n",
    "\t{first_name}--{last_name}@{domain}\n",
    "\t{first_name}--{last_name}@{domain}\n",
    "\t{first_name}_{last_name}@{domain}\n",
    "\t{f_initial}_{last_name}@{domain}\n",
    "\t{first_name}_{l_initial}@{domain}\n",
    "\t{f_initial}_{l_initial}@{domain}\n",
    "\t{last_name}_{first_name}@{domain}\n",
    "\t{last_name}_{f_initial}@{domain}\n",
    "\t{l_initial}_{first_name}@{domain}\n",
    "\t{l_initial}_{f_initial}@{domain}\n",
    "\t{f_initial}_{last_name}@{domain}\n",
    "\t{first_name}__{last_name}@{domain}\n",
    "\t{first_name}__{last_name}@{domain}\n",
    "'''\n",
    "#I, O first name, last name, domain\n",
    "def permuter(first_name, last_name, domain):\n",
    "    disc = {\n",
    "        'first_name': first_name, \n",
    "        'last_name': last_name,\n",
    "        'f_initial': first_name[0], \n",
    "        'l_initial': last_name[0],\n",
    "        'domain': domain,\n",
    "    }\n",
    "    \n",
    "    emails = [template.format(**disc).strip() for template in string_formats.split('\\n')]\n",
    "    return emails[1:-1]\n",
    "\n",
    "permuter('ajay', 'sharma', 'gmail.com')"
   ]
  },
  {
   "cell_type": "code",
   "execution_count": null,
   "metadata": {
    "collapsed": true
   },
   "outputs": [],
   "source": [
    "def check_if-"
   ]
  },
  {
   "cell_type": "code",
   "execution_count": 91,
   "metadata": {
    "collapsed": false
   },
   "outputs": [
    {
     "data": {
      "text/plain": [
       "[('asharma567567@gmail.com', True),\n",
       " ('ryan.masiello@viewthespace.com', False),\n",
       " ('rmasiello@viewthespace.com', False),\n",
       " ('ryan.masiello@vts.com', False),\n",
       " ('rmasiello@vts.com', False)]"
      ]
     },
     "execution_count": 91,
     "metadata": {},
     "output_type": "execute_result"
    }
   ],
   "source": [
    "#I, O first name, last name, domain\n",
    "\n",
    "auth_token = get_auth_token(curl_auth_URL)\n",
    "\n",
    "#permute it by emails\n",
    "list_of_emails = [\n",
    "    'asharma567567@gmail.com',\n",
    "    'ryan.masiello@viewthespace.com',\n",
    "    'rmasiello@viewthespace.com',\n",
    "    'ryan.masiello@vts.com',\n",
    "    'rmasiello@vts.com',\n",
    "]\n",
    "\n",
    "output = []\n",
    "for email in list_of_emails:\n",
    "    user_handle, domain = email.split('@')\n",
    "    boolean = check_LI_profile_exist(user_handle, domain, auth_token)\n",
    "    output.append((email, boolean))\n",
    "output"
   ]
  },
  {
   "cell_type": "code",
   "execution_count": null,
   "metadata": {
    "collapsed": true
   },
   "outputs": [],
   "source": []
  }
 ],
 "metadata": {
  "kernelspec": {
   "display_name": "Python 2",
   "language": "python",
   "name": "python2"
  },
  "language_info": {
   "codemirror_mode": {
    "name": "ipython",
    "version": 2
   },
   "file_extension": ".py",
   "mimetype": "text/x-python",
   "name": "python",
   "nbconvert_exporter": "python",
   "pygments_lexer": "ipython2",
   "version": "2.7.11"
  }
 },
 "nbformat": 4,
 "nbformat_minor": 0
}
